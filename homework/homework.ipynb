{
 "cells": [
  {
   "cell_type": "markdown",
   "metadata": {},
   "source": [
    "# Paso 1: Limpieza del Dataset\n",
    "\n",
    "1. Renombre la columna \"default payment next month\" a \"default\".\n",
    "2. Remueva la columna \"ID\".\n",
    "3. Elimine los registros con informacion no disponible.\n",
    "4. Para la columna EDUCATION, valores > 4 indican niveles superiores de educación, agrupe estos valores en la categoría \"others\". "
   ]
  },
  {
   "cell_type": "code",
   "execution_count": 1,
   "metadata": {},
   "outputs": [],
   "source": [
    "# Leer Dataset\n",
    "\n",
    "import pandas as pd\n",
    "\n",
    "train = pd.read_csv(\"../files/input/train_data.csv.zip\", index_col = False, compression = \"zip\")\n",
    "test = pd.read_csv(\"../files/input/test_data.csv.zip\", index_col = False, compression = \"zip\")"
   ]
  },
  {
   "cell_type": "code",
   "execution_count": 2,
   "metadata": {},
   "outputs": [],
   "source": [
    "# Renombre la columna \"default payment next month\" a \"default\"\n",
    "train.rename(columns={\"default payment next month\": \"default\"}, inplace=True)\n",
    "test.rename(columns={\"default payment next month\": \"default\"}, inplace=True)"
   ]
  },
  {
   "cell_type": "code",
   "execution_count": 3,
   "metadata": {},
   "outputs": [],
   "source": [
    "# Remueva la columna \"ID\"\n",
    "train.drop(columns=[\"ID\"], inplace=True)\n",
    "test.drop(columns=[\"ID\"], inplace=True)"
   ]
  },
  {
   "cell_type": "code",
   "execution_count": 4,
   "metadata": {},
   "outputs": [],
   "source": [
    "# Elimine los registros con informacion no disponible.\n",
    "train = train.loc[train['EDUCATION'] != 0]\n",
    "test = test.loc[test['EDUCATION'] != 0]\n",
    "\n",
    "train = train.loc[train['MARRIAGE'] != 0]\n",
    "test = test.loc[test['MARRIAGE'] != 0]"
   ]
  },
  {
   "cell_type": "code",
   "execution_count": 5,
   "metadata": {},
   "outputs": [],
   "source": [
    "# Para la columna EDUCATION, valores > 4 indican niveles superiores\n",
    "# de educación, agrupe estos valores en la categoría \"others\".\n",
    "train.loc[train['EDUCATION'] > 4, 'EDUCATION'] = 4\n",
    "test.loc[test['EDUCATION'] > 4, 'EDUCATION'] = 4"
   ]
  },
  {
   "cell_type": "markdown",
   "metadata": {},
   "source": [
    "# Paso 2: División del Dataset\n",
    "\n",
    "1. Divida los datasets en x_train, y_train, x_test, y_test."
   ]
  },
  {
   "cell_type": "code",
   "execution_count": 6,
   "metadata": {},
   "outputs": [],
   "source": [
    "x_train = train.drop(columns=['default'])\n",
    "y_train = train['default']\n",
    "\n",
    "x_test = test.drop(columns=['default'])\n",
    "y_test = test['default']"
   ]
  },
  {
   "cell_type": "markdown",
   "metadata": {},
   "source": [
    "# Paso 3: Pipeline para el modelo de Clasificación\n",
    "\n",
    "1. Transforma las variables categoricas usando el método one-hot-encoding.\n",
    "2. Descompone la matriz de entrada usando PCA. El PCA usa todas las componentes.\n",
    "3. Estandariza la matriz de entrada.\n",
    "4. Selecciona las K columnas mas relevantes de la matrix de entrada.\n",
    "5. Ajusta una maquina de vectores de soporte (svm)."
   ]
  },
  {
   "cell_type": "code",
   "execution_count": 11,
   "metadata": {},
   "outputs": [],
   "source": [
    "from sklearn.pipeline import Pipeline\n",
    "from sklearn.compose import ColumnTransformer\n",
    "from sklearn.preprocessing import OneHotEncoder, StandardScaler\n",
    "from sklearn.decomposition import PCA\n",
    "from sklearn.feature_selection import SelectKBest, f_classif\n",
    "from sklearn.svm import SVC\n",
    "\n",
    "# Identificar columnas categóricas y numéricas\n",
    "categoricas = ['SEX', 'EDUCATION', 'MARRIAGE']\n",
    "\n",
    "# Preprocesamiento\n",
    "preprocessor = ColumnTransformer(\n",
    "    transformers=[\n",
    "        ('cat', OneHotEncoder(), categoricas)\n",
    "    ],\n",
    "    remainder=StandardScaler()\n",
    ")\n",
    "\n",
    "#Selección de las k mejores características\n",
    "k_best = SelectKBest(score_func=f_classif, k=10)\n",
    "\n",
    "svm = SVC(random_state=42)\n",
    "\n",
    "#Pipeline\n",
    "pipeline = Pipeline([\n",
    "    ('preprocessor', preprocessor),\n",
    "    ('pca', PCA()),\n",
    "    ('feature_selection', k_best), \n",
    "    ('classifier', svm)  \n",
    "])"
   ]
  },
  {
   "cell_type": "markdown",
   "metadata": {},
   "source": [
    "# Paso 4: Optimización\n",
    "\n",
    "1. Optimice los hiperparametros del pipeline usando validación cruzada.\n",
    "2. Use 10 splits para la validación cruzada. \n",
    "\n",
    "    Use la función de precision balanceada para medir la precisión del modelo."
   ]
  },
  {
   "cell_type": "code",
   "execution_count": 13,
   "metadata": {},
   "outputs": [
    {
     "name": "stdout",
     "output_type": "stream",
     "text": [
      "Mejores parámetros: {'classifier__C': 1, 'classifier__gamma': 0.09, 'classifier__kernel': 'rbf', 'feature_selection__k': 13, 'pca__n_components': 22}\n",
      "Precisión: 0.650067640209359\n"
     ]
    }
   ],
   "source": [
    "from sklearn.model_selection import GridSearchCV\n",
    "from sklearn.metrics import make_scorer, balanced_accuracy_score\n",
    "\n",
    "param_grid = {\n",
    "    \"pca__n_components\": [22],\n",
    "    \"feature_selection__k\": [13],\n",
    "    'classifier__C': [0.1, 1, 10],\n",
    "    'classifier__kernel': ['rbf'],\n",
    "    \"classifier__gamma\": [0.09]\n",
    "}\n",
    "\n",
    "model=GridSearchCV(\n",
    "    pipeline,\n",
    "    param_grid,\n",
    "    cv=10,\n",
    "    scoring=\"balanced_accuracy\",\n",
    "    n_jobs=-1,\n",
    "    refit=True\n",
    "    )\n",
    "\n",
    "model.fit(x_train, y_train)\n",
    "\n",
    "print(f\"Mejores parámetros: {model.best_params_}\")\n",
    "print(f\"Precisión: {model.best_score_}\")"
   ]
  },
  {
   "cell_type": "code",
   "execution_count": 18,
   "metadata": {},
   "outputs": [
    {
     "name": "stdout",
     "output_type": "stream",
     "text": [
      "0.6633910166372577 0.6679288128346434\n"
     ]
    }
   ],
   "source": [
    "print(model.score(x_train, y_train), model.score(x_test, y_test))"
   ]
  },
  {
   "cell_type": "markdown",
   "metadata": {},
   "source": [
    "# Paso 5: Guardar el Modelo\n",
    "\n",
    "1. Guarde el modelo (comprimido con gzip) como \"files/models/model.pkl.gz\". \n",
    "\n",
    "    Recuerde que es posible guardar el modelo comprimido usanzo la libreria gzip."
   ]
  },
  {
   "cell_type": "code",
   "execution_count": 14,
   "metadata": {},
   "outputs": [],
   "source": [
    "import gzip\n",
    "import pickle\n",
    "import os\n",
    "\n",
    "models_dir = '../files/models'\n",
    "os.makedirs(models_dir, exist_ok=True)\n",
    "output_path = \"../files/models/model.pkl.gz\"\n",
    "with gzip.open(output_path, 'wb') as file:\n",
    "    pickle.dump(model, file)"
   ]
  },
  {
   "cell_type": "markdown",
   "metadata": {},
   "source": [
    "# Paso 6: Métricas\n",
    "\n",
    "1. Calcule las metricas de precision, precision balanceada, recall y f1-score para los conjuntos de entrenamiento y prueba.\n",
    "2. Guardelas en el archivo files/output/metrics.json. \n",
    "\n",
    "    Cada fila del archivo es un diccionario con las metricas de un modelo. Este diccionario tiene un campo para indicar si es el conjunto de entrenamiento o prueba. Por ejemplo:\n",
    "\n",
    "{'type': 'metrics', 'dataset': 'train', 'precision': 0.8, 'balanced_accuracy': 0.7, 'recall': 0.9, 'f1_score': 0.85}\n",
    "\n",
    "{'type': 'metrics', 'dataset': 'test', 'precision': 0.7, 'balanced_accuracy': 0.6, 'recall': 0.8, 'f1_score': 0.75}\n"
   ]
  },
  {
   "cell_type": "code",
   "execution_count": 15,
   "metadata": {},
   "outputs": [
    {
     "name": "stdout",
     "output_type": "stream",
     "text": [
      "Métricas para el conjunto de entrenamiento:\n",
      "Precisión: 0.7010\n",
      "Precisión balanceada: 0.6634\n",
      "Recall: 0.3731\n",
      "F1-score: 0.4870\n",
      "\n",
      "Métricas para el conjunto de prueba:\n",
      "Precisión: 0.6762\n",
      "Precisión balanceada: 0.6679\n",
      "Recall: 0.3856\n",
      "F1-score: 0.4911\n"
     ]
    }
   ],
   "source": [
    "from sklearn.metrics import precision_score, balanced_accuracy_score, recall_score, f1_score\n",
    "\n",
    "# Realizar las predicciones sobre los conjuntos de entrenamiento y prueba\n",
    "y_train_pred = model.predict(x_train)\n",
    "y_test_pred = model.predict(x_test)\n",
    "\n",
    "# Calcular métricas para el conjunto de entrenamiento\n",
    "precision_train = precision_score(y_train, y_train_pred)\n",
    "balanced_accuracy_train = balanced_accuracy_score(y_train, y_train_pred)\n",
    "recall_train = recall_score(y_train, y_train_pred)\n",
    "f1_train = f1_score(y_train, y_train_pred)\n",
    "\n",
    "# Calcular métricas para el conjunto de prueba\n",
    "precision_test = precision_score(y_test, y_test_pred)\n",
    "balanced_accuracy_test = balanced_accuracy_score(y_test, y_test_pred)\n",
    "recall_test = recall_score(y_test, y_test_pred)\n",
    "f1_test = f1_score(y_test, y_test_pred)\n",
    "\n",
    "# Mostrar los resultados\n",
    "print(\"Métricas para el conjunto de entrenamiento:\")\n",
    "print(f\"Precisión: {precision_train:.4f}\")\n",
    "print(f\"Precisión balanceada: {balanced_accuracy_train:.4f}\")\n",
    "print(f\"Recall: {recall_train:.4f}\")\n",
    "print(f\"F1-score: {f1_train:.4f}\")\n",
    "\n",
    "print(\"\\nMétricas para el conjunto de prueba:\")\n",
    "print(f\"Precisión: {precision_test:.4f}\")\n",
    "print(f\"Precisión balanceada: {balanced_accuracy_test:.4f}\")\n",
    "print(f\"Recall: {recall_test:.4f}\")\n",
    "print(f\"F1-score: {f1_test:.4f}\")\n"
   ]
  },
  {
   "cell_type": "code",
   "execution_count": 16,
   "metadata": {},
   "outputs": [],
   "source": [
    "# Guardar las métricas en un archivo json\n",
    "\n",
    "import json\n",
    "\n",
    "metrics = [\n",
    "    {\n",
    "        \"type\": \"metrics\",\n",
    "        'dataset': 'train',\n",
    "        'precision': precision_train,\n",
    "        'balanced_accuracy': balanced_accuracy_train,\n",
    "        'recall': recall_train,\n",
    "        'f1_score': f1_train,\n",
    "    },\n",
    "    {\n",
    "        \"type\": \"metrics\",\n",
    "        'dataset': 'test',\n",
    "        'precision': precision_test,\n",
    "        'balanced_accuracy': balanced_accuracy_test,\n",
    "        'recall': recall_test,\n",
    "        'f1_score': f1_test,\n",
    "    }\n",
    "]\n",
    "\n",
    "output_dir = \"../files/output\"\n",
    "os.makedirs(output_dir, exist_ok=True)\n",
    "output_path = os.path.join(output_dir,\"metrics.json\")\n",
    "\n",
    "with open(output_path,\"w\") as file:\n",
    "        file.write(json.dumps(metrics) + '\\n')\n"
   ]
  },
  {
   "cell_type": "markdown",
   "metadata": {},
   "source": [
    "# Paso 7: Matrices de Confusion\n",
    "\n",
    "1. Calcule las matrices de confusion para los conjuntos de entrenamiento y prueba. \n",
    "\n",
    "2. Guardelas en el archivo files/output/metrics.json. \n",
    "    \n",
    "    Cada fila del archivo es un diccionario con las metricas de un modelo de entrenamiento o prueba. Por ejemplo:\n",
    "\n",
    "{'type': 'cm_matrix', 'dataset': 'train', 'true_0': {\"predicted_0\": 15562, \"predicte_1\": 666}, 'true_1': {\"predicted_0\": 3333, \"predicted_1\": 1444}}\n",
    "\n",
    "{'type': 'cm_matrix', 'dataset': 'test', 'true_0': {\"predicted_0\": 15562, \"predicte_1\": 650}, 'true_1': {\"predicted_0\": 2490, \"predicted_1\": 1420}}\n"
   ]
  },
  {
   "cell_type": "code",
   "execution_count": 19,
   "metadata": {},
   "outputs": [
    {
     "data": {
      "image/png": "[encoded data removed]",
      "text/plain": [
       "<Figure size 800x600 with 2 Axes>"
      ]
     },
     "metadata": {},
     "output_type": "display_data"
    },
    {
     "data": {
      "image/png": "[encoded data removed]",
      "text/plain": [
       "<Figure size 800x600 with 2 Axes>"
      ]
     },
     "metadata": {},
     "output_type": "display_data"
    }
   ],
   "source": [
    "#Calcule las matrices de confusion para los conjuntos de entrenamiento y prueba.\n",
    "\n",
    "from sklearn.metrics import confusion_matrix\n",
    "import seaborn as sns\n",
    "import matplotlib.pyplot as plt\n",
    "\n",
    "# Matriz de confusión para el conjunto de entrenamiento\n",
    "matriz_train = confusion_matrix(y_train, y_train_pred)\n",
    "\n",
    "plt.figure(figsize=(8, 6))\n",
    "sns.heatmap(matriz_train, \n",
    "            annot=True, \n",
    "            fmt='d', \n",
    "            cmap='Blues', \n",
    "            xticklabels=['Predicted Negative', 'Predicted Positive'], \n",
    "            yticklabels=['Actual Negative', 'Actual Positive'])\n",
    "plt.title('Matriz de Confusión - Conjunto de Entrenamiento')\n",
    "plt.xlabel('Predicción')\n",
    "plt.ylabel('Valor Real')\n",
    "plt.show()\n",
    "\n",
    "# Matriz de confusión para el conjunto de prueba\n",
    "matriz_test = confusion_matrix(y_test, y_test_pred)\n",
    "\n",
    "plt.figure(figsize=(8, 6))\n",
    "sns.heatmap(matriz_test, \n",
    "            annot=True, \n",
    "            fmt='d', \n",
    "            cmap='Blues', \n",
    "            xticklabels=['Predicted Negative', 'Predicted Positive'], \n",
    "            yticklabels=['Actual Negative', 'Actual Positive'])\n",
    "plt.title('Matriz de Confusión - Conjunto de Prueba')\n",
    "plt.xlabel('Predicción')\n",
    "plt.ylabel('Valor Real')\n",
    "plt.show()"
   ]
  },
  {
   "cell_type": "code",
   "execution_count": 20,
   "metadata": {},
   "outputs": [],
   "source": [
    "# Guardar las matrices en un archivo json\n",
    "\n",
    "matriz_metrics = [\n",
    "    {\n",
    "        'type': 'cm_matrix',\n",
    "        'dataset': 'train',\n",
    "        'true_0': {'predicted_0': int(matriz_train[0, 0]),'predicted_1': int(matriz_train[0, 1])},\n",
    "        'true_1': {'predicted_0': int(matriz_train[1, 0]), 'predicted_1': int(matriz_train[1, 1])},\n",
    "    },\n",
    "    {\n",
    "        'type': 'cm_matrix',\n",
    "        'dataset': 'test',\n",
    "        'true_0': {'predicted_0': int(matriz_test[0, 0]), 'predicted_1': int(matriz_test[0, 1])},\n",
    "        'true_1': {'predicted_0': int(matriz_test[1, 0]), 'predicted_1': int(matriz_test[1, 1])},\n",
    "    },\n",
    "]\n",
    "\n",
    "metrics.extend(matriz_metrics)\n",
    "\n",
    "output_path = \"../files/output/metrics.json\"\n",
    "\n",
    "with open(output_path, 'w', encoding=\"utf-8\") as file:\n",
    "    for obj in metrics:\n",
    "        file.write(json.dumps(obj) + \"\\n\")\n"
   ]
  }
 ],
 "metadata": {
  "kernelspec": {
   "display_name": ".venv",
   "language": "python",
   "name": "python3"
  },
  "language_info": {
   "codemirror_mode": {
    "name": "ipython",
    "version": 3
   },
   "file_extension": ".py",
   "mimetype": "text/x-python",
   "name": "python",
   "nbconvert_exporter": "python",
   "pygments_lexer": "ipython3",
   "version": "3.12.4"
  }
 },
 "nbformat": 4,
 "nbformat_minor": 2
}
